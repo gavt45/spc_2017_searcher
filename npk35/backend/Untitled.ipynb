{
 "cells": [
  {
   "cell_type": "code",
   "execution_count": 4,
   "metadata": {
    "collapsed": false,
    "deletable": true,
    "editable": true
   },
   "outputs": [
    {
     "name": "stdout",
     "output_type": "stream",
     "text": [
      "файлы со словами {'/home/gav/Desktop/npk backend/files/кот.txt': ['они', 'ехать', 'кот', 'кот', 'задом', 'перед', 'ехать'], '/home/gav/Desktop/npk backend/files/комарики.txt': ['они', 'лететь', 'комарик', 'воздушный', 'шарик'], '/home/gav/Desktop/npk backend/files/раки.txt': ['кот', 'ехать', 'рак', 'хрома', 'собака'], '/home/gav/Desktop/npk backend/files/медведи.txt': ['ехать', 'медведь', 'велосипед']}\n",
      "прямой индекс {'/home/gav/Desktop/npk backend/files/кот.txt': {'они': [0], 'ехать': [1, 6], 'кот': [2, 3], 'задом': [4], 'перед': [5]}, '/home/gav/Desktop/npk backend/files/комарики.txt': {'они': [0], 'лететь': [1], 'комарик': [2], 'воздушный': [3], 'шарик': [4]}, '/home/gav/Desktop/npk backend/files/раки.txt': {'кот': [0], 'ехать': [1], 'рак': [2], 'хрома': [3], 'собака': [4]}, '/home/gav/Desktop/npk backend/files/медведи.txt': {'ехать': [0], 'медведь': [1], 'велосипед': [2]}}\n",
      "обратный индекс {'они': {'/home/gav/Desktop/npk backend/files/кот.txt': [0], '/home/gav/Desktop/npk backend/files/комарики.txt': [0]}, 'ехать': {'/home/gav/Desktop/npk backend/files/кот.txt': [1, 6], '/home/gav/Desktop/npk backend/files/раки.txt': [1], '/home/gav/Desktop/npk backend/files/медведи.txt': [0]}, 'кот': {'/home/gav/Desktop/npk backend/files/кот.txt': [2, 3], '/home/gav/Desktop/npk backend/files/раки.txt': [0]}, 'задом': {'/home/gav/Desktop/npk backend/files/кот.txt': [4]}, 'перед': {'/home/gav/Desktop/npk backend/files/кот.txt': [5]}, 'лететь': {'/home/gav/Desktop/npk backend/files/комарики.txt': [1]}, 'комарик': {'/home/gav/Desktop/npk backend/files/комарики.txt': [2]}, 'воздушный': {'/home/gav/Desktop/npk backend/files/комарики.txt': [3]}, 'шарик': {'/home/gav/Desktop/npk backend/files/комарики.txt': [4]}, 'рак': {'/home/gav/Desktop/npk backend/files/раки.txt': [2]}, 'хрома': {'/home/gav/Desktop/npk backend/files/раки.txt': [3]}, 'собака': {'/home/gav/Desktop/npk backend/files/раки.txt': [4]}, 'медведь': {'/home/gav/Desktop/npk backend/files/медведи.txt': [1]}, 'велосипед': {'/home/gav/Desktop/npk backend/files/медведи.txt': [2]}}\n",
      "\n",
      "IDF {'они': 0.6931471805599453, 'ехать': 0.28768207245178085, 'кот': 0.6931471805599453, 'задом': 1.3862943611198906, 'перед': 1.3862943611198906, 'лететь': 1.3862943611198906, 'комарик': 1.3862943611198906, 'воздушный': 1.3862943611198906, 'шарик': 1.3862943611198906, 'рак': 1.3862943611198906, 'хрома': 1.3862943611198906, 'собака': 1.3862943611198906, 'медведь': 1.3862943611198906, 'велосипед': 1.3862943611198906}\n"
     ]
    }
   ],
   "source": [
    "import os\n",
    "import re\n",
    "import pymorphy2\n",
    "from math import log\n",
    "from sklearn.feature_extraction.text import CountVectorizer\n",
    "morph = pymorphy2.MorphAnalyzer()\n",
    "def lemmatize(token):\n",
    "    try: \n",
    "        gram_info = morph.parse(token)\n",
    "        return gram_info[0].normal_form\n",
    "    except:\n",
    "        return token\n",
    "def clean(text):\n",
    "    # заменяем все знаки препинания, кроме дефиса, на пробелы\n",
    "    text = re.sub('[!\"#$%&\\'()*+,\\../:;<=>?@[\\\\]^_`{|}~«–»—№<>]+', ' ', text)\n",
    "    words = text.lower().split()\n",
    "    # лемматизируем, выкидывая всё, что является числом и чья длина 2 или меньше\n",
    "    tokens = [lemmatize(w) for w in words if len(w) > 2 and not w.isdigit() and not w.split('-')[0].isdigit()]\n",
    "    return tokens\n",
    "def process_files(path):\n",
    "    file2words = {}  # создаем пустой словарь\n",
    "    for file in os.listdir(path):\n",
    "        fileName = path + file\n",
    "        with open(fileName, encoding='utf-8') as f:    # открываем;\n",
    "            words = clean(f.read())  \n",
    "            file2words[fileName] = words \n",
    "    return file2words\n",
    "file2words = process_files('/home/gav/Desktop/npk backend/files/')\n",
    "print ('файлы со словами',file2words)\n",
    "clean_docs = [' '.join(words) for words in file2words.values()]\n",
    "filenames = list(file2words.keys())\n",
    "def index_one_file(words):\n",
    "    fileIndex = {}                            \n",
    "    for index, word in enumerate(words):   \n",
    "        if word in fileIndex.keys():       \n",
    "            fileIndex[word].append(index)  \n",
    "        else:\n",
    "            fileIndex[word] = [index]      \n",
    "    return fileIndex\n",
    "\n",
    "def make_index(file2words):\n",
    "    index = {}\n",
    "    for filename in file2words.keys():\n",
    "        index[filename] = index_one_file(file2words[filename])\n",
    "    return index\n",
    "index = make_index(file2words)\n",
    "print ('прямой индекс',index)\n",
    "def make_invertedIndex(index):\n",
    "    invertedIndex, df = {}, {}\n",
    "    for filename in index.keys():\n",
    "        for word in index[filename].keys():\n",
    "            if word in df.keys():\n",
    "                df[word] += 1\n",
    "            else:\n",
    "                df[word] = 1 \n",
    "            if word in invertedIndex.keys():\n",
    "                if filename in invertedIndex[word].keys():\n",
    "                    invertedIndex[word][filename].extend(index[filename][word][:])\n",
    "                else:\n",
    "                    invertedIndex[word][filename] = index[filename][word]\n",
    "            else:\n",
    "                invertedIndex[word] = {filename: index[filename][word]}\n",
    "                \n",
    "    N = len(filenames)\n",
    "    idf = {word: log(N / df[word]) for word in df}    \n",
    "    \n",
    "    return invertedIndex,idf\n",
    "\n",
    "invertedIndex, idf = make_invertedIndex(index)\n",
    "print ('обратный индекс',invertedIndex)\n",
    "print()\n",
    "print ('IDF',idf)\n",
    "import json\n",
    "# у нас два словаря - invertedIndex, idf, чтобы не создавать два файла, сложим их все в один массив\n",
    "data = [invertedIndex, idf, file2words]\n",
    "with open('/home/gav/Desktop/npk backend/index_idf_file2words(gav\\'s test).json', 'w') as f:\n",
    "    json.dump(data, f, ensure_ascii=False)"
   ]
  },
  {
   "cell_type": "code",
   "execution_count": 3,
   "metadata": {
    "collapsed": false,
    "deletable": true,
    "editable": true
   },
   "outputs": [
    {
     "ename": "NameError",
     "evalue": "name 'file2words' is not defined",
     "output_type": "error",
     "traceback": [
      "\u001b[0;31m---------------------------------------------------------------------------\u001b[0m",
      "\u001b[0;31mNameError\u001b[0m                                 Traceback (most recent call last)",
      "\u001b[0;32m<ipython-input-3-ea93386bcd72>\u001b[0m in \u001b[0;36m<module>\u001b[0;34m()\u001b[0m\n\u001b[0;32m----> 1\u001b[0;31m \u001b[0mclean_docs\u001b[0m \u001b[0;34m=\u001b[0m \u001b[0;34m[\u001b[0m\u001b[0;34m' '\u001b[0m\u001b[0;34m.\u001b[0m\u001b[0mjoin\u001b[0m\u001b[0;34m(\u001b[0m\u001b[0mwords\u001b[0m\u001b[0;34m)\u001b[0m \u001b[0;32mfor\u001b[0m \u001b[0mwords\u001b[0m \u001b[0;32min\u001b[0m \u001b[0mfile2words\u001b[0m\u001b[0;34m.\u001b[0m\u001b[0mvalues\u001b[0m\u001b[0;34m(\u001b[0m\u001b[0;34m)\u001b[0m\u001b[0;34m]\u001b[0m\u001b[0;34m\u001b[0m\u001b[0m\n\u001b[0m\u001b[1;32m      2\u001b[0m \u001b[0mfilenames\u001b[0m \u001b[0;34m=\u001b[0m \u001b[0mlist\u001b[0m\u001b[0;34m(\u001b[0m\u001b[0mfile2words\u001b[0m\u001b[0;34m.\u001b[0m\u001b[0mkeys\u001b[0m\u001b[0;34m(\u001b[0m\u001b[0;34m)\u001b[0m\u001b[0;34m)\u001b[0m\u001b[0;34m\u001b[0m\u001b[0m\n\u001b[1;32m      3\u001b[0m \u001b[0;32mdef\u001b[0m \u001b[0mindex_one_file\u001b[0m\u001b[0;34m(\u001b[0m\u001b[0mwords\u001b[0m\u001b[0;34m)\u001b[0m\u001b[0;34m:\u001b[0m\u001b[0;34m\u001b[0m\u001b[0m\n\u001b[1;32m      4\u001b[0m     \u001b[0mfileIndex\u001b[0m \u001b[0;34m=\u001b[0m \u001b[0;34m{\u001b[0m\u001b[0;34m}\u001b[0m\u001b[0;34m\u001b[0m\u001b[0m\n\u001b[1;32m      5\u001b[0m     \u001b[0;32mfor\u001b[0m \u001b[0mindex\u001b[0m\u001b[0;34m,\u001b[0m \u001b[0mword\u001b[0m \u001b[0;32min\u001b[0m \u001b[0menumerate\u001b[0m\u001b[0;34m(\u001b[0m\u001b[0mwords\u001b[0m\u001b[0;34m)\u001b[0m\u001b[0;34m:\u001b[0m\u001b[0;34m\u001b[0m\u001b[0m\n",
      "\u001b[0;31mNameError\u001b[0m: name 'file2words' is not defined"
     ]
    }
   ],
   "source": []
  },
  {
   "cell_type": "code",
   "execution_count": 2,
   "metadata": {
    "collapsed": false,
    "deletable": true,
    "editable": true
   },
   "outputs": [
    {
     "ename": "NameError",
     "evalue": "name 'index' is not defined",
     "output_type": "error",
     "traceback": [
      "\u001b[0;31m---------------------------------------------------------------------------\u001b[0m",
      "\u001b[0;31mNameError\u001b[0m                                 Traceback (most recent call last)",
      "\u001b[0;32m<ipython-input-2-85c7ca6040c3>\u001b[0m in \u001b[0;36m<module>\u001b[0;34m()\u001b[0m\n\u001b[1;32m     21\u001b[0m     \u001b[0;32mreturn\u001b[0m \u001b[0minvertedIndex\u001b[0m\u001b[0;34m,\u001b[0m\u001b[0midf\u001b[0m\u001b[0;34m\u001b[0m\u001b[0m\n\u001b[1;32m     22\u001b[0m \u001b[0;34m\u001b[0m\u001b[0m\n\u001b[0;32m---> 23\u001b[0;31m \u001b[0minvertedIndex\u001b[0m\u001b[0;34m,\u001b[0m \u001b[0midf\u001b[0m \u001b[0;34m=\u001b[0m \u001b[0mmake_invertedIndex\u001b[0m\u001b[0;34m(\u001b[0m\u001b[0mindex\u001b[0m\u001b[0;34m)\u001b[0m\u001b[0;34m\u001b[0m\u001b[0m\n\u001b[0m\u001b[1;32m     24\u001b[0m \u001b[0mprint\u001b[0m \u001b[0;34m(\u001b[0m\u001b[0;34m'обратный индекс'\u001b[0m\u001b[0;34m,\u001b[0m\u001b[0minvertedIndex\u001b[0m\u001b[0;34m)\u001b[0m\u001b[0;34m\u001b[0m\u001b[0m\n\u001b[1;32m     25\u001b[0m \u001b[0mprint\u001b[0m\u001b[0;34m(\u001b[0m\u001b[0;34m)\u001b[0m\u001b[0;34m\u001b[0m\u001b[0m\n",
      "\u001b[0;31mNameError\u001b[0m: name 'index' is not defined"
     ]
    }
   ],
   "source": []
  },
  {
   "cell_type": "code",
   "execution_count": null,
   "metadata": {
    "collapsed": true,
    "deletable": true,
    "editable": true
   },
   "outputs": [],
   "source": []
  }
 ],
 "metadata": {
  "kernelspec": {
   "display_name": "Python 3",
   "language": "python",
   "name": "python3"
  }
 },
 "nbformat": 4,
 "nbformat_minor": 0
}
