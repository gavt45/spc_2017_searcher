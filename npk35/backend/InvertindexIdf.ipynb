{
 "cells": [
  {
   "cell_type": "code",
   "execution_count": 1,
   "metadata": {
    "collapsed": false,
    "deletable": true,
    "editable": true
   },
   "outputs": [
    {
     "name": "stdout",
     "output_type": "stream",
     "text": [
      "файлы со словами {'/home/gav/Desktop/npk backend/files/кот.txt': ['они', 'ехать', 'кот', 'кот', 'задом', 'перед', 'ехать'], '/home/gav/Desktop/npk backend/files/комарики.txt': ['они', 'лететь', 'комарик', 'воздушный', 'шарик'], '/home/gav/Desktop/npk backend/files/раки.txt': ['кот', 'ехать', 'рак', 'хрома', 'собака'], '/home/gav/Desktop/npk backend/files/медведи.txt': ['ехать', 'медведь', 'велосипед']}\n",
      "прямой индекс {'/home/gav/Desktop/npk backend/files/кот.txt': {'они': [0], 'ехать': [1, 6], 'кот': [2, 3], 'задом': [4], 'перед': [5]}, '/home/gav/Desktop/npk backend/files/комарики.txt': {'они': [0], 'лететь': [1], 'комарик': [2], 'воздушный': [3], 'шарик': [4]}, '/home/gav/Desktop/npk backend/files/раки.txt': {'кот': [0], 'ехать': [1], 'рак': [2], 'хрома': [3], 'собака': [4]}, '/home/gav/Desktop/npk backend/files/медведи.txt': {'ехать': [0], 'медведь': [1], 'велосипед': [2]}}\n",
      "обратный индекс {'они': {'/home/gav/Desktop/npk backend/files/кот.txt': [0], '/home/gav/Desktop/npk backend/files/комарики.txt': [0]}, 'ехать': {'/home/gav/Desktop/npk backend/files/кот.txt': [1, 6], '/home/gav/Desktop/npk backend/files/раки.txt': [1], '/home/gav/Desktop/npk backend/files/медведи.txt': [0]}, 'кот': {'/home/gav/Desktop/npk backend/files/кот.txt': [2, 3], '/home/gav/Desktop/npk backend/files/раки.txt': [0]}, 'задом': {'/home/gav/Desktop/npk backend/files/кот.txt': [4]}, 'перед': {'/home/gav/Desktop/npk backend/files/кот.txt': [5]}, 'лететь': {'/home/gav/Desktop/npk backend/files/комарики.txt': [1]}, 'комарик': {'/home/gav/Desktop/npk backend/files/комарики.txt': [2]}, 'воздушный': {'/home/gav/Desktop/npk backend/files/комарики.txt': [3]}, 'шарик': {'/home/gav/Desktop/npk backend/files/комарики.txt': [4]}, 'рак': {'/home/gav/Desktop/npk backend/files/раки.txt': [2]}, 'хрома': {'/home/gav/Desktop/npk backend/files/раки.txt': [3]}, 'собака': {'/home/gav/Desktop/npk backend/files/раки.txt': [4]}, 'медведь': {'/home/gav/Desktop/npk backend/files/медведи.txt': [1]}, 'велосипед': {'/home/gav/Desktop/npk backend/files/медведи.txt': [2]}}\n",
      "IDF {'они': 0.6931471805599453, 'ехать': 0.28768207245178085, 'кот': 0.6931471805599453, 'задом': 1.3862943611198906, 'перед': 1.3862943611198906, 'лететь': 1.3862943611198906, 'комарик': 1.3862943611198906, 'воздушный': 1.3862943611198906, 'шарик': 1.3862943611198906, 'рак': 1.3862943611198906, 'хрома': 1.3862943611198906, 'собака': 1.3862943611198906, 'медведь': 1.3862943611198906, 'велосипед': 1.3862943611198906}\n"
     ]
    }
   ],
   "source": [
    "import os\n",
    "import re\n",
    "import pymorphy2\n",
    "from math import log\n",
    "from sklearn.feature_extraction.text import CountVectorizer\n",
    "morph = pymorphy2.MorphAnalyzer()\n",
    "def lemmatize(token):\n",
    "    try: \n",
    "        gram_info = morph.parse(token)\n",
    "        return gram_info[0].normal_form\n",
    "    except:\n",
    "        return token\n",
    "def clean(text):\n",
    "    # заменяем все знаки препинания, кроме дефиса, на пробелы\n",
    "    text = re.sub('[!\"#$%&\\'()*+,\\../:;<=>?@[\\\\]^_`{|}~«–»—№<>]+', ' ', text)\n",
    "    words = text.lower().split()\n",
    "    # лемматизируем, выкидывая всё, что является числом и чья длина 2 или меньше\n",
    "    tokens = [lemmatize(w) for w in words if len(w) > 2 and not w.isdigit() and not w.split('-')[0].isdigit()]\n",
    "    return tokens\n",
    "def process_files(path):\n",
    "    file2words = {}  # создаем пустой словарь\n",
    "    for file in os.listdir(path):\n",
    "        fileName = path + file\n",
    "        with open(fileName, encoding='utf-8') as f:    # открываем;\n",
    "            words = clean(f.read())  \n",
    "            file2words[fileName] = words \n",
    "    return file2words\n",
    "file2words = process_files('/home/gav/Desktop/npk backend/files/')\n",
    "print ('файлы со словами',file2words)\n",
    "clean_docs = [' '.join(words) for words in file2words.values()]\n",
    "filenames = list(file2words.keys())\n",
    "def index_one_file(words):\n",
    "    fileIndex = {}                            \n",
    "    for index, word in enumerate(words):   \n",
    "        if word in fileIndex.keys():       \n",
    "            fileIndex[word].append(index)  \n",
    "        else:\n",
    "            fileIndex[word] = [index]      \n",
    "    return fileIndex\n",
    "\n",
    "def make_index(file2words):\n",
    "    index = {}\n",
    "    for filename in file2words.keys():\n",
    "        index[filename] = index_one_file(file2words[filename])\n",
    "    return index\n",
    "index = make_index(file2words)\n",
    "print ('прямой индекс',index)\n",
    "def make_invertedIndex(index):\n",
    "    invertedIndex, df = {}, {}\n",
    "    \n",
    "    for filename in index.keys():\n",
    "        for word in index[filename].keys():\n",
    "            if word in df.keys():\n",
    "                df[word] += 1\n",
    "            else:\n",
    "                df[word] = 1 \n",
    "            if word in invertedIndex.keys():\n",
    "                if filename in invertedIndex[word].keys():\n",
    "                    invertedIndex[word][filename].extend(index[filename][word][:])\n",
    "                else:\n",
    "                    invertedIndex[word][filename] = index[filename][word]\n",
    "            else:\n",
    "                invertedIndex[word] = {filename: index[filename][word]}\n",
    "                \n",
    "    N = len(filenames)\n",
    "    idf = {word: log(N / df[word]) for word in df}    \n",
    "    \n",
    "    return invertedIndex,idf\n",
    "\n",
    "invertedIndex, idf = make_invertedIndex(index)\n",
    "print ('обратный индекс',invertedIndex)\n",
    "print ('IDF',idf)\n",
    "import json\n",
    "# у нас два словаря - invertedIndex, idf, чтобы не создавать два файла, сложим их все в один массив\n",
    "data = [invertedIndex, idf, file2words]\n",
    "with open('/home/gav/Desktop/npk backend/test_3_gav.json', 'w') as f:\n",
    "    json.dump(data, f, ensure_ascii=False)\n"
   ]
  },
  {
   "cell_type": "code",
   "execution_count": 4,
   "metadata": {
    "collapsed": false,
    "deletable": true,
    "editable": true
   },
   "outputs": [
    {
     "name": "stdout",
     "output_type": "stream",
     "text": [
      "{'велосипед': 1.3862943611198906, 'они': 0.6931471805599453, 'шарик': 1.3862943611198906, 'хрома': 1.3862943611198906, 'задом': 1.3862943611198906, 'лететь': 1.3862943611198906, 'собака': 1.3862943611198906, 'воздушный': 1.3862943611198906, 'рак': 1.3862943611198906, 'ехать': 0.28768207245178085, 'комарик': 1.3862943611198906, 'кот': 0.6931471805599453, 'медведь': 1.3862943611198906, 'перед': 1.3862943611198906}\n"
     ]
    }
   ],
   "source": [
    "print( idf)"
   ]
  },
  {
   "cell_type": "code",
   "execution_count": null,
   "metadata": {
    "collapsed": true,
    "deletable": true,
    "editable": true
   },
   "outputs": [],
   "source": []
  }
 ],
 "metadata": {
  "kernelspec": {
   "display_name": "Python 3",
   "language": "python",
   "name": "python3"
  },
  "language_info": {
   "codemirror_mode": {
    "name": "ipython",
    "version": 3
   },
   "file_extension": ".py",
   "mimetype": "text/x-python",
   "name": "python",
   "nbconvert_exporter": "python",
   "pygments_lexer": "ipython3",
   "version": "3.6.1"
  }
 },
 "nbformat": 4,
 "nbformat_minor": 0
}
