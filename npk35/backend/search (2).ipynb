{
 "cells": [
  {
   "cell_type": "code",
   "execution_count": 3,
   "metadata": {
    "collapsed": false
   },
   "outputs": [
    {
     "name": "stdout",
     "output_type": "stream",
     "text": [
      "['C:\\\\файлы1\\\\кот.txt', 'C:\\\\файлы1\\\\раки.txt']\n"
     ]
    }
   ],
   "source": [
    "import os\n",
    "import re\n",
    "import json\n",
    "import pymorphy2\n",
    "from math import log\n",
    "from sklearn.feature_extraction.text import CountVectorizer\n",
    "\n",
    "morph = pymorphy2.MorphAnalyzer()\n",
    "vectorizer = CountVectorizer()\n",
    "\n",
    "def lemmatize(token):\n",
    "    try: \n",
    "        gram_info = morph.parse(token)\n",
    "        return gram_info[0].normal_form\n",
    "    except:\n",
    "        return token\n",
    "\n",
    "\n",
    "def clean(text):\n",
    "    text = re.sub('[!\"#$%&\\'()*+,\\../:;<=>?@[\\\\]^_`{|}~«–»—№<>]+', ' ', text)\n",
    "    words = text.lower().split()\n",
    "    tokens = [lemmatize(w) for w in words if len(w) > 2 and not w.isdigit() and not w.split('-')[0].isdigit()]\n",
    "    return tokens\n",
    "\n",
    "\n",
    "def get_documents(query, invertedIndex):\n",
    "    query = ' '.join(clean(query))\n",
    "    if len(query.split()) == 1:\n",
    "        if query in invertedIndex.keys():\n",
    "            return [filename for filename in invertedIndex[query].keys()]\n",
    "        else:\n",
    "            return []\n",
    "    else:\n",
    "        result = []\n",
    "        for word in query.split():\n",
    "            if word in invertedIndex.keys():\n",
    "                result.append([filename for filename in invertedIndex[word].keys()])                \n",
    "        return list(set(result[0]).intersection(*result))\n",
    "\n",
    "\n",
    "def main(query):\n",
    "    with open('index_idf_file2words.json') as f:\n",
    "        invertedIndex, idf, file2words = json.load(f)\n",
    "\n",
    "    docs = get_documents(query, invertedIndex)\n",
    "    clean_docs = [' '.join(file2words[doc]) for doc in docs]\n",
    "\n",
    "    raw_v = vectorizer.fit_transform(clean_docs)\n",
    "    raw_vectors = raw_v.toarray() \n",
    "    raw_vectors = [list(v) for v in raw_vectors]   \n",
    "    vectors = dict(zip(docs, raw_vectors))\n",
    "    vocab = vectorizer.get_feature_names()\n",
    "\n",
    "    idf_vectors = {}\n",
    "    for doc in vectors:\n",
    "        idf_vectors[doc] = [tf*idf[vocab[i]] for i, tf in enumerate(vectors[doc])]\n",
    "\n",
    "    query_vector = vectorizer.transform([query]).toarray() \n",
    "    query_vector = list(query_vector[0])\n",
    "\n",
    "    cos_sim = {}\n",
    "    for doc in docs:\n",
    "        cos_sim[doc] = sum([x*y for x,y in zip(idf_vectors[doc], query_vector)])\n",
    "\n",
    "    ranked_docs = sorted(cos_sim, key=lambda x: x[1])\n",
    "\n",
    "    return ranked_docs\n",
    "\n",
    "\n",
    "print(main('ехал кот')) \n"
   ]
  },
  {
   "cell_type": "code",
   "execution_count": null,
   "metadata": {
    "collapsed": true
   },
   "outputs": [],
   "source": []
  }
 ],
 "metadata": {
  "kernelspec": {
   "display_name": "Python [Root]",
   "language": "python",
   "name": "Python [Root]"
  },
  "language_info": {
   "codemirror_mode": {
    "name": "ipython",
    "version": 3
   },
   "file_extension": ".py",
   "mimetype": "text/x-python",
   "name": "python",
   "nbconvert_exporter": "python",
   "pygments_lexer": "ipython3",
   "version": "3.5.1"
  }
 },
 "nbformat": 4,
 "nbformat_minor": 0
}
